{
 "cells": [
  {
   "cell_type": "markdown",
   "metadata": {},
   "source": [
    "HEADER\n",
    "\n",
    "the python package and function in my lib to upload and constants"
   ]
  },
  {
   "cell_type": "code",
   "execution_count": null,
   "metadata": {},
   "outputs": [],
   "source": [
    "import pandas as pd\n",
    "import numpy as np\n",
    "import networkx as nx\n",
    "from lib import ReactionEnthalpyCalculation, FromNetworkDataFrameToNetworkClassList, ExtractMolFromNetwork, FromNetworkCSVtoKidaDAT, FromNetworkKidaDATtoCSV\n",
    "\n",
    "################################################################ CONSTANT #############################################################################\n",
    "ph_list = ['e-','CRP','CR','Photon']\n",
    "nan = ['NaN','nan',np.nan,' ','']\n",
    "FROMHETOKJMOL = 2625.5002\n",
    "#######################################################################################################################################################"
   ]
  },
  {
   "cell_type": "markdown",
   "metadata": {},
   "source": [
    "PARAMETERS THAT MUST BE DEFINED FOR THE CLEANING PROCEDURE\n",
    "\n",
    "The path_to_network must be in a different folder then the original one, in order to save the information in a work directory and to not override the info.\n",
    "\n",
    "- path_to_molecules_database \t\t--> path to the molecules database\n",
    "- path_to_network\t\t\t\t\t--> path to the network to be clean\n",
    "- threshold_endothermicity_kJmol\t--> threshold to determined the reactions to be deleted for endothermicity (in kJ/mol)"
   ]
  },
  {
   "cell_type": "code",
   "execution_count": null,
   "metadata": {},
   "outputs": [],
   "source": [
    "path_to_molecules_database = '/Users/tinaccil/Documents/GitHub/GreToBaPe_Cleaning/database/molecules_reactivity_network.csv'\n",
    "path_to_network = '/Users/tinaccil/Documents/GitHub/GreToBaPe_Cleaning/tmp_network_to_be_clean/Gretobape_pre_endo_cleaning.dat'\n",
    "threshold_endothermicity_kJmol = 10"
   ]
  },
  {
   "cell_type": "markdown",
   "metadata": {},
   "source": [
    "Reading the network and print the species that are not present in the Database\n",
    "Be aware that in many network, the same species is reported with different name. Please control, in the database is reported the number of atoms per species."
   ]
  },
  {
   "cell_type": "code",
   "execution_count": null,
   "metadata": {},
   "outputs": [],
   "source": [
    "with open(path_to_molecules_database,\"r\") as data:\n",
    "    df_info_mol = pd.read_csv(data, delimiter = '\\t')\n",
    "#with open(path_to_network,\"r\") as data:\n",
    "#    df_net = pd.read_csv(data, delimiter = '\\t')\n",
    "df_net = FromNetworkKidaDATtoCSV(path_to_network,save=False)\n",
    "df_net_tmp = df_net.copy()\n",
    "df_mol_new = ExtractMolFromNetwork(df_net)\n",
    "df_info_mol['In_Network'] = df_info_mol['species'].isin(df_mol_new['species'])\n",
    "df_mol_new['In_database']  = df_mol_new['species'].isin(df_info_mol['species'])\n",
    "df_mol_new = df_mol_new[(~df_mol_new['species'].isin(nan)) | (~df_mol_new['species'].isin(ph_list))]\n",
    "df_info_mol = df_info_mol[df_info_mol['In_Network'] == True]\n",
    "print(\"Species not prensent in Database:\")\n",
    "with pd.option_context('display.max_rows', None, 'display.max_columns', None):\n",
    "    display(df_mol_new[(df_mol_new['In_database']==False) & (~ df_mol_new['species'].isin(nan + ph_list))])\n",
    "del df_mol_new"
   ]
  },
  {
   "cell_type": "markdown",
   "metadata": {},
   "source": [
    "ENDOTHERMICITY CALCULATION\n",
    "\n",
    "it will generete a ```_endo.dat``` file with all the reactions adresses as endothermic (i.e. above the threshold_endothermicity_kJmol)"
   ]
  },
  {
   "cell_type": "code",
   "execution_count": null,
   "metadata": {},
   "outputs": [],
   "source": [
    "net  = FromNetworkDataFrameToNetworkClassList(df_net_tmp)\n",
    "df_info_mol['Energy'].astype(float)\n",
    "df_info_mol['ZPE'].astype(float)\n",
    "df_info_mol['enthalpy'] = df_info_mol['Energy'] + df_info_mol['ZPE']\n",
    "df_net_tmp['enthalpy'] = np.array([ReactionEnthalpyCalculation(net,df_info_mol)]).T\n",
    "df_net_tmp['enthalpy'] = df_net_tmp['enthalpy'] * FROMHETOKJMOL\n",
    "print('tot reaction with enthalpy data: ' + str(df_net_tmp[df_net_tmp['enthalpy'].notnull()].shape[0]))\n",
    "tmp_endo = df_net_tmp[df_net_tmp['enthalpy'].notnull()].copy()\n",
    "print('tot reaction endothermic: ' + str(tmp_endo[tmp_endo['enthalpy'] > threshold_endothermicity_kJmol].shape[0]))\n",
    "#with pd.option_context('display.max_rows', None, 'display.max_columns', None):\n",
    "#    display(tmp_endo)\n",
    "FromNetworkCSVtoKidaDAT(tmp_endo[tmp_endo['enthalpy'] > threshold_endothermicity_kJmol],path_to_network[:-4] + '_endo.dat')\n"
   ]
  },
  {
   "cell_type": "markdown",
   "metadata": {},
   "source": [
    "Convert pandas to graph raction network with species and reaction as different type of nodes"
   ]
  },
  {
   "cell_type": "code",
   "execution_count": null,
   "metadata": {},
   "outputs": [],
   "source": [
    "net_g   = nx.DiGraph()\n",
    "mol_vec = df_info_mol['species'].to_numpy()\n",
    "mol_ene = (df_info_mol['Energy'] + df_info_mol['ZPE']).to_numpy()\n",
    "net_id  = df_net_tmp['Number'].to_numpy()\n",
    "net_rec = df_net_tmp['enthalpy'].to_numpy()\n",
    "#create nodes and add attribute\n",
    "for i,mol in enumerate(mol_vec):\n",
    "    net_g.add_node(mol)\n",
    "    tmp_attr = {'type': 'species','energy': mol_ene[i]}\n",
    "    net_g.nodes[mol].update(tmp_attr.copy())\n",
    "for i,mol in enumerate(ph_list):\n",
    "    net_g.add_node(mol)\n",
    "    tmp_attr = {'type': 'species','energy': np.nan}\n",
    "    net_g.nodes[mol].update(tmp_attr.copy())\n",
    "#create edges and attribute\n",
    "for i,rec in enumerate(net):\n",
    "    net_g.add_node(net_id[i])\n",
    "    tmp_attr = {'type': 'reaction','enthalpy': net_rec[i]}\n",
    "    net_g.nodes[net_id[i]].update(tmp_attr.copy())\n",
    "    for j,item_j in enumerate(set(net[i].reactants)):\n",
    "        if item_j not in nan:\n",
    "            net_g.add_edge(item_j,net_id[i])\n",
    "    for k,item_k in enumerate(set(net[i].products)):\n",
    "        if item_k not in nan:\n",
    "            net_g.add_edge(net_id[i],item_k)"
   ]
  },
  {
   "cell_type": "markdown",
   "metadata": {},
   "source": [
    "DELETED ALL THE ENDOTHERMIC REACTIONS AND CONSEQUENT DOMINO EFFECT\n",
    "\n",
    "it will generete a ```_domino_endo.dat``` file with all the reactions adresses as endothermic and deleted by Domino effect\n",
    "\n",
    "also will create the clean network ```_clean.dat```"
   ]
  },
  {
   "cell_type": "code",
   "execution_count": null,
   "metadata": {},
   "outputs": [],
   "source": [
    "#elimination species and reaction loop\n",
    "tmp_n = net_g.copy()\n",
    "#delete endothemric reactions\n",
    "del_ent = df_net_tmp[df_net_tmp['enthalpy']> threshold_endothermicity_kJmol]['Number'].to_list()\n",
    "tmp_n.remove_nodes_from(del_ent)\n",
    "print('tot reactions endo: ' + str(len(del_ent)))\n",
    "print('Reaction number: ')\n",
    "print(del_ent)\n",
    "#delete consequence species and reactions not produce and destroyed \n",
    "del_species  = []\n",
    "del_reaction = []\n",
    "while True:\n",
    "    tmp_rem = [node for node in tmp_n.nodes if tmp_n.out_degree(node) == 0]\n",
    "    tmp_rem = tmp_rem + [node for node in tmp_n.nodes if tmp_n.in_degree(node) == 0]\n",
    "    for i,item in enumerate(ph_list):\n",
    "        if item in tmp_rem:\n",
    "            tmp_rem.remove(item)\n",
    "    tmp = []\n",
    "    for i,item in enumerate(tmp_rem):\n",
    "        try:\n",
    "            if tmp_n.nodes[item]['type']=='species':\n",
    "                del_species.append(item)\n",
    "                tmp.append(item)\n",
    "                tmp_r = [n for n in nx.all_neighbors(tmp_n,item)]\n",
    "                del_reaction = del_reaction + tmp_r\n",
    "                tmp = tmp + tmp_r\n",
    "        except:\n",
    "            print(item)\n",
    "    if len(tmp) == 0:\n",
    "        break\n",
    "    else:\n",
    "        tmp_n.remove_nodes_from(tmp)\n",
    "print('Tot endo del: ' + str(len(del_ent)))\n",
    "print('Tot species del: ' + str(len(del_species)))\n",
    "print('Species deleted: ')\n",
    "print(del_species)\n",
    "print('Tot reactions del by Domino Effect: ' + str(len(del_reaction)))\n",
    "print(del_reaction)\n",
    "del_reaction = del_reaction + del_ent\n",
    "FromNetworkCSVtoKidaDAT(df_net_tmp[df_net_tmp['Number'].isin(del_reaction)],path_to_network[:-4] + '_domino_endo.dat')\n",
    "df_net_tmp = df_net_tmp[~df_net_tmp['Number'].isin(del_reaction)].drop(columns=['enthalpy'])\n",
    "FromNetworkCSVtoKidaDAT(df_net_tmp,path_to_network[:-4] + '_clean.dat')"
   ]
  }
 ],
 "metadata": {
  "interpreter": {
   "hash": "a629c9d794f1aa97af0a2d65ef4cd06ea353724a7f8a46b6ec2131443fc9393f"
  },
  "kernelspec": {
   "display_name": "Python 3.7.10 ('base')",
   "language": "python",
   "name": "python3"
  },
  "language_info": {
   "codemirror_mode": {
    "name": "ipython",
    "version": 3
   },
   "file_extension": ".py",
   "mimetype": "text/x-python",
   "name": "python",
   "nbconvert_exporter": "python",
   "pygments_lexer": "ipython3",
   "version": "3.7.10"
  },
  "orig_nbformat": 4
 },
 "nbformat": 4,
 "nbformat_minor": 2
}
